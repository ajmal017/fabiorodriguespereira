{
 "cells": [
  {
   "cell_type": "markdown",
   "metadata": {},
   "source": [
    "# Correlation\n",
    "\n",
    "In this tutorial we will focus on:\n",
    "- Definition and understanding its importance;\n",
    "- Using numpy or pandas to access its coefficient."
   ]
  },
  {
   "cell_type": "markdown",
   "metadata": {},
   "source": [
    "## 1) Definition:\n",
    "\n",
    "- **Correlation** is a statistical technique that can show whether and how strongly pairs of variables are related:\n",
    "\n",
    "$$\\rho_{\\overrightarrow{x},\\overrightarrow{y}} = \\frac{cov(\\overrightarrow{x},\\overrightarrow{y})}{\\sigma_{\\overrightarrow{x}}\\sigma_{\\overrightarrow{y}}}$$\n",
    "\n",
    "**More info about:** https://en.wikipedia.org/wiki/Pearson_correlation_coefficient"
   ]
  },
  {
   "cell_type": "markdown",
   "metadata": {},
   "source": [
    "## 2) Why is it  important?"
   ]
  },
  {
   "cell_type": "markdown",
   "metadata": {},
   "source": [
    "## 3) Coding:"
   ]
  },
  {
   "cell_type": "code",
   "execution_count": null,
   "metadata": {},
   "outputs": [],
   "source": []
  }
 ],
 "metadata": {
  "kernelspec": {
   "display_name": "Python 3",
   "language": "python",
   "name": "python3"
  },
  "language_info": {
   "codemirror_mode": {
    "name": "ipython",
    "version": 3
   },
   "file_extension": ".py",
   "mimetype": "text/x-python",
   "name": "python",
   "nbconvert_exporter": "python",
   "pygments_lexer": "ipython3",
   "version": "3.7.6"
  }
 },
 "nbformat": 4,
 "nbformat_minor": 4
}
