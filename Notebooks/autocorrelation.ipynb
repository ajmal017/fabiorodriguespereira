{
 "cells": [
  {
   "cell_type": "markdown",
   "metadata": {},
   "source": [
    "# Autocorrelation or Serial Correlation\n",
    "\n",
    "In this tutorial we will focus on:\n",
    "- Definition, test statistic and understanding its importance;\n",
    "- Using numpy or pandas to access its coefficient."
   ]
  },
  {
   "cell_type": "markdown",
   "metadata": {},
   "source": [
    "## 1) Definition:\n",
    "\n",
    "- **Autocorrelation**, also called **serial correlation**, is the correlation / similarity between events / observations as a function of the time lag between them.\n",
    "\n",
    "\n",
    "**More info about:** https://en.wikipedia.org/wiki/Autocorrelation"
   ]
  },
  {
   "cell_type": "markdown",
   "metadata": {},
   "source": [
    "## 2) Test statistic - Durbin-Watson:\n",
    "\n",
    "The null hypothesis of the test is that there is no serial correlation.\n",
    "\n",
    "The Durbin-Watson test statistics is defined as:\n",
    "\n",
    "$$\\sum_{t=2}^T((e_t - e_{t-1})^2)/\\sum_{t=1}^Te_t^2$$\n",
    "\n",
    "The test statistic is approximately equal to 2*(1-r) where ``r`` is the sample autocorrelation of the residuals. Thus, for r == 0, indicating no serial correlation, the test statistic equals 2. This statistic will always be between 0 and 4. The closer to 0 the statistic, the more evidence for positive serial correlation. The closer to 4, the more evidence for negative serial correlation.\n",
    "\n",
    "**More info about:** https://en.wikipedia.org/wiki/Durbin–Watson_statistic"
   ]
  },
  {
   "cell_type": "markdown",
   "metadata": {},
   "source": [
    "## 3) Why is it important?\n",
    "\n",
    "In many statistics model analysis, autocorrelation violates the independence assumption of the events/observations and results in biased estimations/inferences;\n",
    "\n",
    "In regression models, autocorrelation of the residuals (errors) violates the ordinary least squares (OLS) assumption that the residual (error) terms are uncorrelated, meaning that the OLS estimators are no longer the Best Linear Unbiased Estimators (BLUE)."
   ]
  },
  {
   "cell_type": "markdown",
   "metadata": {},
   "source": [
    "# 4) Coding:\n",
    "\n",
    "Font: https://www.statsmodels.org/stable/_modules/statsmodels/stats/stattools.html#durbin_watson"
   ]
  },
  {
   "cell_type": "code",
   "execution_count": 4,
   "metadata": {},
   "outputs": [],
   "source": [
    "import numpy as np\n",
    "\n",
    "def dw_test(residuals, axis=0):\n",
    "    r\"\"\"\n",
    "    Calculates the Durbin-Watson test statistic\n",
    "\n",
    "    Parameters\n",
    "    ----------\n",
    "    residuals : array_like\n",
    "\n",
    "    Returns\n",
    "    -------\n",
    "    dw_test_statistic : float, array_like\n",
    "\n",
    "    Notes\n",
    "    -----\n",
    "    Ho:= There is no serial correlation.\n",
    "    H1:= There is serial correlation.\n",
    "    \n",
    "    The Durbin-Watson test statistics is defined as:\n",
    "\n",
    "    .. math::\n",
    "\n",
    "       \\sum_{t=2}^T((e_t - e_{t-1})^2)/\\sum_{t=1}^Te_t^2\n",
    "    \n",
    "    This statistic will always be between 0 and 4.\n",
    "    For r == 0, indicating no serial correlation;\n",
    "    The closer to 0 the statistic, the more evidence for positive serial correlation. \n",
    "    The closer to 4, the more evidence for negative serial correlation.\n",
    "    \"\"\"\n",
    "    residuals = np.asarray(residuals)\n",
    "    diff_residuals = np.diff(residuals, 1, axis=axis)\n",
    "    dw_test = np.sum(diff_residuals**2, axis=axis) / np.sum(residuals**2, axis=axis)\n",
    "    return dw_test"
   ]
  },
  {
   "cell_type": "code",
   "execution_count": null,
   "metadata": {},
   "outputs": [],
   "source": []
  }
 ],
 "metadata": {
  "kernelspec": {
   "display_name": "Python 3",
   "language": "python",
   "name": "python3"
  },
  "language_info": {
   "codemirror_mode": {
    "name": "ipython",
    "version": 3
   },
   "file_extension": ".py",
   "mimetype": "text/x-python",
   "name": "python",
   "nbconvert_exporter": "python",
   "pygments_lexer": "ipython3",
   "version": "3.7.6"
  }
 },
 "nbformat": 4,
 "nbformat_minor": 4
}
