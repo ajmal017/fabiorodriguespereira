{
 "cells": [
  {
   "cell_type": "markdown",
   "metadata": {},
   "source": [
    "# Downloading historical data using the native IB API:\n",
    "\n",
    "In this tutorial we will focus on:\n",
    "- Downloading / requesting historical data from Interactive Brokers api;\n",
    "- Handling the data with Pandas Data Frame;\n",
    "- Saving in your computer as CSV file."
   ]
  },
  {
   "cell_type": "markdown",
   "metadata": {},
   "source": [
    "## 1) Pre-requisites:\n",
    "\n",
    "- An activated account at Interactive Brokers with data feeds;\n",
    "- Trader Workstation or IB Gateway installed in your computer;\n",
    "- IBAPI, pandas, threading and time python libraries installed and ready to use."
   ]
  },
  {
   "cell_type": "markdown",
   "metadata": {},
   "source": [
    "## 2) Import the necessary libraries:"
   ]
  },
  {
   "cell_type": "code",
   "execution_count": 9,
   "metadata": {},
   "outputs": [],
   "source": [
    "from ibapi.client import EClient\n",
    "from ibapi.wrapper import EWrapper\n",
    "from ibapi.contract import Contract\n",
    "import pandas as pd\n",
    "import threading\n",
    "import time"
   ]
  },
  {
   "cell_type": "markdown",
   "metadata": {},
   "source": [
    "## 3) Helper classes, methods and functions:"
   ]
  },
  {
   "cell_type": "code",
   "execution_count": 10,
   "metadata": {},
   "outputs": [],
   "source": [
    "class IBapi(EWrapper, EClient):\n",
    "    def __init__(self):\n",
    "        EClient.__init__(self, self)\n",
    "\n",
    "    def historicalData(self, reqId, bar):\n",
    "        app.data.append([bar.date, bar.open, bar.high, bar.low, bar.close,\n",
    "                         bar.volume, bar.average])"
   ]
  },
  {
   "cell_type": "code",
   "execution_count": null,
   "metadata": {},
   "outputs": [],
   "source": [
    "# Calling the helper class:\n",
    "ibapi = IBapi()\n",
    "\n",
    "# Connecting with your Trader Workstation or IB Gateway:\n",
    "ibapi.connect('127.0.0.1', 4001, 0)  # IB Gateway uses port 4001\n",
    "\n",
    "# Starting a thread:\n",
    "thread = threading.Thread(target=ibapi.run(), daemon=True)\n",
    "thread.start()\n",
    "\n",
    "# Sleep interval to allow enough time for connection to server:\n",
    "time.sleep(1)\n",
    "\n",
    "# Creating a contract object:\n",
    "contract = Contract()\n",
    "contract.symbol = 'PETR4'\n",
    "contract.secType = 'STK'\n",
    "contract.exchange = 'BOVESPA'\n",
    "contract.currency = 'BRL'\n",
    "\n",
    "# Initialize variable where we will store the data:\n",
    "ibapi.data = []\n",
    "\n",
    "# Request historical data:\n",
    "ibapi.reqHistoricalData(\n",
    "    1,  # Request Id number\n",
    "    contract,  # Contract object\n",
    "    '',  # End Date\n",
    "    '12 M',  # Interval\n",
    "    '1 day',  # Time Period\n",
    "    'ADJUSTED_LAST',  # Data Type\n",
    "    0,  # RTH. If pre-market data, set this to 1\n",
    "    1,  # Time Format: 1 for readable time and 2 for Epcoh\n",
    "    False,  # Streaming: if True updates every 5 seconds\n",
    "    []\n",
    ")\n",
    "\n",
    "# Sleep to allow enough time for data to be returned:\n",
    "time.sleep(1)\n",
    "\n",
    "# Creating a Pandas' DataFrame:\n",
    "df = pd.DataFrame(\n",
    "    ibapi.data,\n",
    "    columns=\n",
    "    ['DateTime', 'Open', 'High', 'Low', 'Close', 'Volume', 'Average']\n",
    ")\n",
    "\n",
    "# Disconnecting from your Trader Workstation or IB Gateway:\n",
    "ibapi.disconnect()\n",
    "\n",
    "# Exporting csv with data:\n",
    "df.to_csv('data/PETR4_D.csv')"
   ]
  }
 ],
 "metadata": {
  "kernelspec": {
   "display_name": "Python 3",
   "language": "python",
   "name": "python3"
  },
  "language_info": {
   "codemirror_mode": {
    "name": "ipython",
    "version": 3
   },
   "file_extension": ".py",
   "mimetype": "text/x-python",
   "name": "python",
   "nbconvert_exporter": "python",
   "pygments_lexer": "ipython3",
   "version": "3.7.6"
  }
 },
 "nbformat": 4,
 "nbformat_minor": 4
}
