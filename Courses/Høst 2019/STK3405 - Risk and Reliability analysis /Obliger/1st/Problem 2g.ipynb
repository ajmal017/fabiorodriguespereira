{
 "cells": [
  {
   "cell_type": "markdown",
   "metadata": {},
   "source": [
    "# Problem 2g - oblig STK3405 - H19"
   ]
  },
  {
   "cell_type": "markdown",
   "metadata": {},
   "source": [
    "- We assume that q=1, L=1000m and lambda=0.001. \n",
    "- Then we can compare the results for h_1 (bridge) and h_2 (improved pipeline quality), which we import from exercise 2e and 2f respectively."
   ]
  },
  {
   "cell_type": "code",
   "execution_count": 7,
   "metadata": {},
   "outputs": [
    {
     "name": "stdout",
     "output_type": "stream",
     "text": [
      "Reliability for h_1: 0.7143324073286628 \n",
      "\n",
      "Reliability for h_2: 0.8451818782538245\n"
     ]
    }
   ],
   "source": [
    "from math import exp\n",
    "\n",
    "q = 1\n",
    "L = 1000\n",
    "v_lambda = 0.001\n",
    "\n",
    "h_1 = q*exp(-v_lambda*L)*(2-exp(-v_lambda*L/2))*(2-exp(-v_lambda*L/2))+(1-q)*exp(-v_lambda)*(2-exp(-v_lambda*L))\n",
    "h_2 = exp((-v_lambda/2)*L)*(2-exp((-v_lambda/2)*L))\n",
    "\n",
    "print('Reliability for h_1:', h_1, '\\n\\nReliability for h_2:', h_2)"
   ]
  },
  {
   "cell_type": "markdown",
   "metadata": {},
   "source": [
    "## Conclusion:\n",
    "\n",
    "As we can see, with the same conditions and variables, the reliability for h_1 is smaller than h_2, then if the price to build a bridge is the same as the price of improving the pipeline quality, I would choose to improve the pipeline quality because its reliability is larger!"
   ]
  }
 ],
 "metadata": {
  "kernelspec": {
   "display_name": "Python 3",
   "language": "python",
   "name": "python3"
  },
  "language_info": {
   "codemirror_mode": {
    "name": "ipython",
    "version": 3
   },
   "file_extension": ".py",
   "mimetype": "text/x-python",
   "name": "python",
   "nbconvert_exporter": "python",
   "pygments_lexer": "ipython3",
   "version": "3.7.4"
  }
 },
 "nbformat": 4,
 "nbformat_minor": 2
}
