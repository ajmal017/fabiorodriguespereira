{
 "cells": [
  {
   "cell_type": "code",
   "execution_count": 2,
   "metadata": {},
   "outputs": [],
   "source": [
    "import numpy as np\n",
    "import pandas as pd\n",
    "import scipy.stats as stats\n",
    "import matplotlib.pyplot as plt"
   ]
  },
  {
   "cell_type": "code",
   "execution_count": 10,
   "metadata": {},
   "outputs": [],
   "source": [
    "beerf = pd.read_excel(\"beerf.xlsx\")\n",
    "beerm = pd.read_excel(\"beerm.xlsx\")"
   ]
  },
  {
   "cell_type": "code",
   "execution_count": 186,
   "metadata": {},
   "outputs": [
    {
     "data": {
      "image/png": "[encoded data removed]",
      "text/plain": [
       "<Figure size 432x288 with 1 Axes>"
      ]
     },
     "metadata": {
      "needs_background": "light"
     },
     "output_type": "display_data"
    }
   ],
   "source": [
    "# Men's Dataset:\n",
    "beerm.groupby([\"type\"]).boxplot(subplots=False)\n",
    "plt.show()"
   ]
  },
  {
   "cell_type": "code",
   "execution_count": 187,
   "metadata": {},
   "outputs": [
    {
     "data": {
      "text/html": [
       "<div>\n",
       "<style scoped>\n",
       "    .dataframe tbody tr th:only-of-type {\n",
       "        vertical-align: middle;\n",
       "    }\n",
       "\n",
       "    .dataframe tbody tr th {\n",
       "        vertical-align: top;\n",
       "    }\n",
       "\n",
       "    .dataframe thead tr th {\n",
       "        text-align: left;\n",
       "    }\n",
       "\n",
       "    .dataframe thead tr:last-of-type th {\n",
       "        text-align: right;\n",
       "    }\n",
       "</style>\n",
       "<table border=\"1\" class=\"dataframe\">\n",
       "  <thead>\n",
       "    <tr>\n",
       "      <th></th>\n",
       "      <th colspan=\"8\" halign=\"left\">Poeng</th>\n",
       "    </tr>\n",
       "    <tr>\n",
       "      <th></th>\n",
       "      <th>count</th>\n",
       "      <th>mean</th>\n",
       "      <th>std</th>\n",
       "      <th>min</th>\n",
       "      <th>25%</th>\n",
       "      <th>50%</th>\n",
       "      <th>75%</th>\n",
       "      <th>max</th>\n",
       "    </tr>\n",
       "    <tr>\n",
       "      <th>type</th>\n",
       "      <th></th>\n",
       "      <th></th>\n",
       "      <th></th>\n",
       "      <th></th>\n",
       "      <th></th>\n",
       "      <th></th>\n",
       "      <th></th>\n",
       "      <th></th>\n",
       "    </tr>\n",
       "  </thead>\n",
       "  <tbody>\n",
       "    <tr>\n",
       "      <th>A</th>\n",
       "      <td>3.0</td>\n",
       "      <td>6.066667</td>\n",
       "      <td>0.293655</td>\n",
       "      <td>5.75</td>\n",
       "      <td>5.935</td>\n",
       "      <td>6.12</td>\n",
       "      <td>6.225</td>\n",
       "      <td>6.33</td>\n",
       "    </tr>\n",
       "    <tr>\n",
       "      <th>L</th>\n",
       "      <td>3.0</td>\n",
       "      <td>4.626667</td>\n",
       "      <td>0.712905</td>\n",
       "      <td>4.11</td>\n",
       "      <td>4.220</td>\n",
       "      <td>4.33</td>\n",
       "      <td>4.885</td>\n",
       "      <td>5.44</td>\n",
       "    </tr>\n",
       "    <tr>\n",
       "      <th>S</th>\n",
       "      <td>3.0</td>\n",
       "      <td>4.553333</td>\n",
       "      <td>0.692556</td>\n",
       "      <td>4.00</td>\n",
       "      <td>4.165</td>\n",
       "      <td>4.33</td>\n",
       "      <td>4.830</td>\n",
       "      <td>5.33</td>\n",
       "    </tr>\n",
       "  </tbody>\n",
       "</table>\n",
       "</div>"
      ],
      "text/plain": [
       "     Poeng                                                    \n",
       "     count      mean       std   min    25%   50%    75%   max\n",
       "type                                                          \n",
       "A      3.0  6.066667  0.293655  5.75  5.935  6.12  6.225  6.33\n",
       "L      3.0  4.626667  0.712905  4.11  4.220  4.33  4.885  5.44\n",
       "S      3.0  4.553333  0.692556  4.00  4.165  4.33  4.830  5.33"
      ]
     },
     "execution_count": 187,
     "metadata": {},
     "output_type": "execute_result"
    }
   ],
   "source": [
    "beerm.groupby([\"type\"]).describe()"
   ]
  },
  {
   "cell_type": "code",
   "execution_count": 13,
   "metadata": {},
   "outputs": [
    {
     "data": {
      "text/plain": [
       "5.082222222222222"
      ]
     },
     "execution_count": 13,
     "metadata": {},
     "output_type": "execute_result"
    }
   ],
   "source": [
    "beerm.Poeng.mean()"
   ]
  },
  {
   "cell_type": "code",
   "execution_count": 15,
   "metadata": {},
   "outputs": [
    {
     "data": {
      "text/plain": [
       "0.7264499999999996"
      ]
     },
     "execution_count": 15,
     "metadata": {},
     "output_type": "execute_result"
    }
   ],
   "source": [
    "((6.06-5.08)**2+(4.62-5.08)**2+(4.55-5.08)**2)/2"
   ]
  },
  {
   "cell_type": "markdown",
   "metadata": {},
   "source": [
    "**Conclusion:**\n",
    "- We see large differences between the standard deviations of the groups, as well as, the boxplot are very distant between each other. This inferes that there are significant differences between the groups means."
   ]
  },
  {
   "cell_type": "code",
   "execution_count": 249,
   "metadata": {},
   "outputs": [
    {
     "name": "stdout",
     "output_type": "stream",
     "text": [
      "Hypotesis claims:\n",
      "\n",
      "H0:= All means are equal vs H1:= all not equal\n",
      "\n",
      "Significance level alpha:  0.025000000000000022 \n",
      "\n",
      "Test Statistic F:  6.101604444030658 \n",
      "\n",
      "p-value:  0.035810459425153 \n",
      "\n",
      "F-Critical(alpha, df1=k-1=3-1=2; df2=n-k=9-3=6):  7.25985568006018\n"
     ]
    }
   ],
   "source": [
    "# We perform one-way ANOVA test to compare beer type means:\n",
    "\n",
    "# Create arrays for each groups values:\n",
    "A = beerm[beerm[\"type\"] == \"A\"][\"Poeng\"].values\n",
    "S = beerm[beerm[\"type\"] == \"S\"][\"Poeng\"].values\n",
    "L = beerm[beerm[\"type\"] == \"L\"][\"Poeng\"].values\n",
    "\n",
    "# Define claims, significance level alpha and calculate the F-test statistics, p-value:\n",
    "alpha = 1-0.05/2\n",
    "(f, p) = stats.f_oneway(A, S, L)\n",
    "print(\"Hypotesis claims:\"\n",
    "      \"\\n\\nH0:= All means are equal vs H1:= all not equal\\n\"\n",
    "      \"\\nSignificance level alpha: \", 1-alpha,\n",
    "      \"\\n\\nTest Statistic F: \", float(f),\n",
    "      \"\\n\\np-value: \", float(p),\n",
    "      \"\\n\\nF-Critical(alpha, df1=k-1=3-1=2; df2=n-k=9-3=6): \",\n",
    "      stats.f(2, 6).ppf(alpha))"
   ]
  },
  {
   "cell_type": "markdown",
   "metadata": {},
   "source": [
    "**Conclusions:** \n",
    "- As Test Statistic F=6,1 > F-value=5,14, then reject H0.\n",
    "- As p-value = 0.0359 < alpha=0.025, then reject H0.\n",
    "- There are significant differences between the groups (beers types) means."
   ]
  },
  {
   "cell_type": "code",
   "execution_count": 250,
   "metadata": {},
   "outputs": [
    {
     "data": {
      "image/png": "[encoded data removed]",
      "text/plain": [
       "<Figure size 432x288 with 1 Axes>"
      ]
     },
     "metadata": {
      "needs_background": "light"
     },
     "output_type": "display_data"
    }
   ],
   "source": [
    "# Women's Dataset:\n",
    "beerf.groupby([\"type\"]).boxplot(subplots=False)\n",
    "#beerf.boxplot(\"Poeng\", by=\"type\")\n",
    "plt.show()"
   ]
  },
  {
   "cell_type": "code",
   "execution_count": 251,
   "metadata": {},
   "outputs": [
    {
     "data": {
      "text/html": [
       "<div>\n",
       "<style scoped>\n",
       "    .dataframe tbody tr th:only-of-type {\n",
       "        vertical-align: middle;\n",
       "    }\n",
       "\n",
       "    .dataframe tbody tr th {\n",
       "        vertical-align: top;\n",
       "    }\n",
       "\n",
       "    .dataframe thead tr th {\n",
       "        text-align: left;\n",
       "    }\n",
       "\n",
       "    .dataframe thead tr:last-of-type th {\n",
       "        text-align: right;\n",
       "    }\n",
       "</style>\n",
       "<table border=\"1\" class=\"dataframe\">\n",
       "  <thead>\n",
       "    <tr>\n",
       "      <th></th>\n",
       "      <th colspan=\"8\" halign=\"left\">Poeng</th>\n",
       "    </tr>\n",
       "    <tr>\n",
       "      <th></th>\n",
       "      <th>count</th>\n",
       "      <th>mean</th>\n",
       "      <th>std</th>\n",
       "      <th>min</th>\n",
       "      <th>25%</th>\n",
       "      <th>50%</th>\n",
       "      <th>75%</th>\n",
       "      <th>max</th>\n",
       "    </tr>\n",
       "    <tr>\n",
       "      <th>type</th>\n",
       "      <th></th>\n",
       "      <th></th>\n",
       "      <th></th>\n",
       "      <th></th>\n",
       "      <th></th>\n",
       "      <th></th>\n",
       "      <th></th>\n",
       "      <th></th>\n",
       "    </tr>\n",
       "  </thead>\n",
       "  <tbody>\n",
       "    <tr>\n",
       "      <th>A</th>\n",
       "      <td>3.0</td>\n",
       "      <td>3.666667</td>\n",
       "      <td>0.725902</td>\n",
       "      <td>3.00</td>\n",
       "      <td>3.28</td>\n",
       "      <td>3.56</td>\n",
       "      <td>4.000</td>\n",
       "      <td>4.44</td>\n",
       "    </tr>\n",
       "    <tr>\n",
       "      <th>L</th>\n",
       "      <td>3.0</td>\n",
       "      <td>5.176667</td>\n",
       "      <td>0.159478</td>\n",
       "      <td>5.00</td>\n",
       "      <td>5.11</td>\n",
       "      <td>5.22</td>\n",
       "      <td>5.265</td>\n",
       "      <td>5.31</td>\n",
       "    </tr>\n",
       "    <tr>\n",
       "      <th>S</th>\n",
       "      <td>3.0</td>\n",
       "      <td>3.866667</td>\n",
       "      <td>0.306649</td>\n",
       "      <td>3.67</td>\n",
       "      <td>3.69</td>\n",
       "      <td>3.71</td>\n",
       "      <td>3.965</td>\n",
       "      <td>4.22</td>\n",
       "    </tr>\n",
       "  </tbody>\n",
       "</table>\n",
       "</div>"
      ],
      "text/plain": [
       "     Poeng                                                   \n",
       "     count      mean       std   min   25%   50%    75%   max\n",
       "type                                                         \n",
       "A      3.0  3.666667  0.725902  3.00  3.28  3.56  4.000  4.44\n",
       "L      3.0  5.176667  0.159478  5.00  5.11  5.22  5.265  5.31\n",
       "S      3.0  3.866667  0.306649  3.67  3.69  3.71  3.965  4.22"
      ]
     },
     "execution_count": 251,
     "metadata": {},
     "output_type": "execute_result"
    }
   ],
   "source": [
    "beerf.groupby([\"type\"]).describe()"
   ]
  },
  {
   "cell_type": "code",
   "execution_count": 16,
   "metadata": {},
   "outputs": [
    {
     "data": {
      "text/plain": [
       "4.236666666666666"
      ]
     },
     "execution_count": 16,
     "metadata": {},
     "output_type": "execute_result"
    }
   ],
   "source": [
    "beerf.Poeng.mean()"
   ]
  },
  {
   "cell_type": "code",
   "execution_count": 25,
   "metadata": {},
   "outputs": [
    {
     "data": {
      "text/plain": [
       "146.2"
      ]
     },
     "execution_count": 25,
     "metadata": {},
     "output_type": "execute_result"
    }
   ],
   "source": [
    "(100+130+151+170+180)/5\n"
   ]
  },
  {
   "cell_type": "markdown",
   "metadata": {},
   "source": [
    "**Conclusion:**\n",
    "- We see large differences between the standard deviations of the groups, as well as, the boxplot are very distant between each other. This inferes that there are significant differences between the groups means."
   ]
  },
  {
   "cell_type": "code",
   "execution_count": 252,
   "metadata": {},
   "outputs": [
    {
     "name": "stdout",
     "output_type": "stream",
     "text": [
      "Hypotesis claims:\n",
      "\n",
      "H0:= All means are equal vs H1:= all not equal\n",
      "\n",
      "Significance level alpha:  0.050000000000000044 \n",
      "\n",
      "Test Statistic F:  9.366181930693063 \n",
      "\n",
      "p-value:  0.01427765453814632 \n",
      "\n",
      "F-Critical(alpha, df1=k-1=3-1=2; df2=n-k=9-3=6):  5.143252849784718\n"
     ]
    }
   ],
   "source": [
    "# We perform one-way ANOVA test to compare beer type means:\n",
    "\n",
    "# Create arrays for each groups values:\n",
    "A = beerf[beerf[\"type\"] == \"A\"][\"Poeng\"].values\n",
    "S = beerf[beerf[\"type\"] == \"S\"][\"Poeng\"].values\n",
    "L = beerf[beerf[\"type\"] == \"L\"][\"Poeng\"].values\n",
    "\n",
    "# Define claims, significance level alpha and calculate the F-test statistics, p-value:\n",
    "alpha = 1-0.05\n",
    "(f, p) = stats.f_oneway(A, S, L)\n",
    "print(\"Hypotesis claims:\"\n",
    "      \"\\n\\nH0:= All means are equal vs H1:= all not equal\\n\"\n",
    "      \"\\nSignificance level alpha: \", 1-alpha,\n",
    "      \"\\n\\nTest Statistic F: \", float(f),\n",
    "      \"\\n\\np-value: \", float(p),\n",
    "      \"\\n\\nF-Critical(alpha, df1=k-1=3-1=2; df2=n-k=9-3=6): \",\n",
    "      stats.f(2, 6).ppf(alpha))"
   ]
  },
  {
   "cell_type": "code",
   "execution_count": 300,
   "metadata": {},
   "outputs": [
    {
     "data": {
      "text/plain": [
       "3"
      ]
     },
     "execution_count": 300,
     "metadata": {},
     "output_type": "execute_result"
    }
   ],
   "source": [
    "groups = pd.unique(beerf.type.values)\n",
    "a = {grps: beerf.Poeng[beerf.type==grps] for grps in groups}\n",
    "a = pd.DataFrame(data)"
   ]
  },
  {
   "cell_type": "code",
   "execution_count": 307,
   "metadata": {},
   "outputs": [],
   "source": [
    "beerf = beerf.set_index([\"type\"], append=False)"
   ]
  },
  {
   "cell_type": "code",
   "execution_count": 4,
   "metadata": {},
   "outputs": [
    {
     "data": {
      "text/plain": [
       "0.3794733192202055"
      ]
     },
     "execution_count": 4,
     "metadata": {},
     "output_type": "execute_result"
    }
   ],
   "source": [
    "np.sqrt(0.216*(2/3))"
   ]
  },
  {
   "cell_type": "code",
   "execution_count": 6,
   "metadata": {},
   "outputs": [
    {
     "data": {
      "text/plain": [
       "4.626666666666668"
      ]
     },
     "execution_count": 6,
     "metadata": {},
     "output_type": "execute_result"
    }
   ],
   "source": [
    "(4.33+4.11+5.44)/3"
   ]
  },
  {
   "cell_type": "code",
   "execution_count": 8,
   "metadata": {},
   "outputs": [
    {
     "data": {
      "text/plain": [
       "-0.1842105263157895"
      ]
     },
     "execution_count": 8,
     "metadata": {},
     "output_type": "execute_result"
    }
   ],
   "source": [
    "-0.07/0.38"
   ]
  },
  {
   "cell_type": "code",
   "execution_count": null,
   "metadata": {},
   "outputs": [],
   "source": []
  }
 ],
 "metadata": {
  "kernelspec": {
   "display_name": "Python 3",
   "language": "python",
   "name": "python3"
  },
  "language_info": {
   "codemirror_mode": {
    "name": "ipython",
    "version": 3
   },
   "file_extension": ".py",
   "mimetype": "text/x-python",
   "name": "python",
   "nbconvert_exporter": "python",
   "pygments_lexer": "ipython3",
   "version": "3.7.6"
  }
 },
 "nbformat": 4,
 "nbformat_minor": 4
}
