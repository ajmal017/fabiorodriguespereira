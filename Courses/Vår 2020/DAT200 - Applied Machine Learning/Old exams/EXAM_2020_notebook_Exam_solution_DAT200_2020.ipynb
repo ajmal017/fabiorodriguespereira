{
 "cells": [
  {
   "cell_type": "markdown",
   "metadata": {},
   "source": [
    "# EXAMINATION QUESTIONS"
   ]
  },
  {
   "cell_type": "markdown",
   "metadata": {},
   "source": [
    "Examination in **DAT200** Applied Machine Learning I"
   ]
  },
  {
   "cell_type": "markdown",
   "metadata": {},
   "source": [
    "**Time for exams**\n",
    "\n",
    "* Day and date: *Friday, 15.05.2020*\n",
    "* As from - to and duration of examinations (hours): *09:00 to 12:30 (3.5 hours)*"
   ]
  },
  {
   "cell_type": "markdown",
   "metadata": {},
   "source": [
    "**Course responsible**: Oliver Tomic and Kristian Hovde Liland"
   ]
  },
  {
   "cell_type": "markdown",
   "metadata": {},
   "source": [
    "**External examiner**: Per-Arne Andersen"
   ]
  },
  {
   "cell_type": "markdown",
   "metadata": {},
   "source": [
    "**Permissible aids**: C3 - all types of calculators, all other aids"
   ]
  },
  {
   "cell_type": "markdown",
   "metadata": {},
   "source": [
    "---"
   ]
  },
  {
   "cell_type": "markdown",
   "metadata": {},
   "source": [
    "**Required software / packages**\n",
    "\n",
    "* scikit-learn\n",
    "* mlxtend"
   ]
  },
  {
   "cell_type": "markdown",
   "metadata": {},
   "source": [
    "**Your code and your answers**\n",
    "\n",
    "* There are separate cells for your code and answers.\n",
    "  * Edit answer cells for theoretical questions, but leave the heading (Answer x. y))\n",
    "* You may add extra code cells as you want to give better organisation and runnability.\n",
    "* During correction of exams, your code is expected to run without warnings or errors, but will be assesed regardless.\n",
    "* Make backups and save as you go."
   ]
  },
  {
   "cell_type": "markdown",
   "metadata": {},
   "source": [
    "---"
   ]
  },
  {
   "cell_type": "markdown",
   "metadata": {},
   "source": [
    "__Total number of exercises__: 7\n",
    "\n",
    "__Total number points__: 100"
   ]
  },
  {
   "cell_type": "markdown",
   "metadata": {},
   "source": [
    "---"
   ]
  },
  {
   "cell_type": "markdown",
   "metadata": {},
   "source": [
    "## Exercise 1 - feature importance permutation (24 points)"
   ]
  },
  {
   "cell_type": "markdown",
   "metadata": {},
   "source": [
    "You are given a data file (*mushroom.txt*) that contains information on mushrooms. Your task is to determine **which properties** of the mushrooms are the most important for **distinguishing** whether a mushroom is **poisonous** (*Norwegian: giftig*) or **edible** (*Norwegian: spiselig*). You will make your decision based on **feature importances** computed by use of  **feature importance permutation**.\n",
    "\n",
    "Information on features and target contained in *mushroom.txt*\n",
    "\n",
    "* *shape*: categorical\n",
    "* *surface*: categorical\n",
    "* *color*: categorical\n",
    "* *target*: categorical\n"
   ]
  },
  {
   "cell_type": "markdown",
   "metadata": {},
   "source": [
    "### Exercise 1. a) (9 points)"
   ]
  },
  {
   "cell_type": "markdown",
   "metadata": {},
   "source": [
    "Load and prepare your data, such that you can use it for training classifiers in scikit-learn."
   ]
  },
  {
   "cell_type": "code",
   "execution_count": 1,
   "metadata": {},
   "outputs": [],
   "source": [
    "# Code for 1. a)\n",
    "\n",
    "# =============================================================================\n",
    "# Import modules\n",
    "# =============================================================================\n",
    "from sklearn.model_selection import train_test_split\n",
    "from sklearn.preprocessing import StandardScaler\n",
    "from sklearn.linear_model import LogisticRegression\n",
    "from sklearn.ensemble import RandomForestClassifier\n",
    "from sklearn.neighbors import KNeighborsClassifier\n",
    "from sklearn.preprocessing import LabelEncoder\n",
    "\n",
    "import numpy as np\n",
    "import pandas as pd\n",
    "import matplotlib.pyplot as plt\n",
    "from mlxtend.evaluate import feature_importance_permutation"
   ]
  },
  {
   "cell_type": "code",
   "execution_count": 2,
   "metadata": {},
   "outputs": [
    {
     "data": {
      "text/html": [
       "<div>\n",
       "<style scoped>\n",
       "    .dataframe tbody tr th:only-of-type {\n",
       "        vertical-align: middle;\n",
       "    }\n",
       "\n",
       "    .dataframe tbody tr th {\n",
       "        vertical-align: top;\n",
       "    }\n",
       "\n",
       "    .dataframe thead th {\n",
       "        text-align: right;\n",
       "    }\n",
       "</style>\n",
       "<table border=\"1\" class=\"dataframe\">\n",
       "  <thead>\n",
       "    <tr style=\"text-align: right;\">\n",
       "      <th></th>\n",
       "      <th>shape</th>\n",
       "      <th>surface</th>\n",
       "      <th>color</th>\n",
       "      <th>target</th>\n",
       "    </tr>\n",
       "  </thead>\n",
       "  <tbody>\n",
       "    <tr>\n",
       "      <th>0</th>\n",
       "      <td>convex</td>\n",
       "      <td>smooth</td>\n",
       "      <td>yellow</td>\n",
       "      <td>edible</td>\n",
       "    </tr>\n",
       "    <tr>\n",
       "      <th>1</th>\n",
       "      <td>bell</td>\n",
       "      <td>smooth</td>\n",
       "      <td>white</td>\n",
       "      <td>edible</td>\n",
       "    </tr>\n",
       "    <tr>\n",
       "      <th>2</th>\n",
       "      <td>convex</td>\n",
       "      <td>scaly</td>\n",
       "      <td>white</td>\n",
       "      <td>poisonous</td>\n",
       "    </tr>\n",
       "    <tr>\n",
       "      <th>3</th>\n",
       "      <td>convex</td>\n",
       "      <td>smooth</td>\n",
       "      <td>gray</td>\n",
       "      <td>edible</td>\n",
       "    </tr>\n",
       "    <tr>\n",
       "      <th>4</th>\n",
       "      <td>convex</td>\n",
       "      <td>scaly</td>\n",
       "      <td>yellow</td>\n",
       "      <td>edible</td>\n",
       "    </tr>\n",
       "    <tr>\n",
       "      <th>...</th>\n",
       "      <td>...</td>\n",
       "      <td>...</td>\n",
       "      <td>...</td>\n",
       "      <td>...</td>\n",
       "    </tr>\n",
       "    <tr>\n",
       "      <th>8118</th>\n",
       "      <td>knobbed</td>\n",
       "      <td>smooth</td>\n",
       "      <td>brown</td>\n",
       "      <td>edible</td>\n",
       "    </tr>\n",
       "    <tr>\n",
       "      <th>8119</th>\n",
       "      <td>convex</td>\n",
       "      <td>smooth</td>\n",
       "      <td>brown</td>\n",
       "      <td>edible</td>\n",
       "    </tr>\n",
       "    <tr>\n",
       "      <th>8120</th>\n",
       "      <td>flat</td>\n",
       "      <td>smooth</td>\n",
       "      <td>brown</td>\n",
       "      <td>edible</td>\n",
       "    </tr>\n",
       "    <tr>\n",
       "      <th>8121</th>\n",
       "      <td>knobbed</td>\n",
       "      <td>scaly</td>\n",
       "      <td>brown</td>\n",
       "      <td>poisonous</td>\n",
       "    </tr>\n",
       "    <tr>\n",
       "      <th>8122</th>\n",
       "      <td>convex</td>\n",
       "      <td>smooth</td>\n",
       "      <td>brown</td>\n",
       "      <td>edible</td>\n",
       "    </tr>\n",
       "  </tbody>\n",
       "</table>\n",
       "<p>8123 rows × 4 columns</p>\n",
       "</div>"
      ],
      "text/plain": [
       "        shape surface   color     target\n",
       "0      convex  smooth  yellow     edible\n",
       "1        bell  smooth   white     edible\n",
       "2      convex   scaly   white  poisonous\n",
       "3      convex  smooth    gray     edible\n",
       "4      convex   scaly  yellow     edible\n",
       "...       ...     ...     ...        ...\n",
       "8118  knobbed  smooth   brown     edible\n",
       "8119   convex  smooth   brown     edible\n",
       "8120     flat  smooth   brown     edible\n",
       "8121  knobbed   scaly   brown  poisonous\n",
       "8122   convex  smooth   brown     edible\n",
       "\n",
       "[8123 rows x 4 columns]"
      ]
     },
     "execution_count": 2,
     "metadata": {},
     "output_type": "execute_result"
    }
   ],
   "source": [
    "# =============================================================================\n",
    "# Load and preprocess data for analysis\n",
    "# =============================================================================\n",
    "\n",
    "# Load data from file and visualise\n",
    "mushroom = pd.read_csv(\"data/mushroom.txt\", sep='\\t', index_col=0)\n",
    "mushroom"
   ]
  },
  {
   "cell_type": "code",
   "execution_count": 3,
   "metadata": {},
   "outputs": [
    {
     "data": {
      "text/html": [
       "<div>\n",
       "<style scoped>\n",
       "    .dataframe tbody tr th:only-of-type {\n",
       "        vertical-align: middle;\n",
       "    }\n",
       "\n",
       "    .dataframe tbody tr th {\n",
       "        vertical-align: top;\n",
       "    }\n",
       "\n",
       "    .dataframe thead th {\n",
       "        text-align: right;\n",
       "    }\n",
       "</style>\n",
       "<table border=\"1\" class=\"dataframe\">\n",
       "  <thead>\n",
       "    <tr style=\"text-align: right;\">\n",
       "      <th></th>\n",
       "      <th>shape</th>\n",
       "      <th>surface</th>\n",
       "      <th>color</th>\n",
       "    </tr>\n",
       "  </thead>\n",
       "  <tbody>\n",
       "    <tr>\n",
       "      <th>0</th>\n",
       "      <td>convex</td>\n",
       "      <td>smooth</td>\n",
       "      <td>yellow</td>\n",
       "    </tr>\n",
       "    <tr>\n",
       "      <th>1</th>\n",
       "      <td>bell</td>\n",
       "      <td>smooth</td>\n",
       "      <td>white</td>\n",
       "    </tr>\n",
       "    <tr>\n",
       "      <th>2</th>\n",
       "      <td>convex</td>\n",
       "      <td>scaly</td>\n",
       "      <td>white</td>\n",
       "    </tr>\n",
       "    <tr>\n",
       "      <th>3</th>\n",
       "      <td>convex</td>\n",
       "      <td>smooth</td>\n",
       "      <td>gray</td>\n",
       "    </tr>\n",
       "    <tr>\n",
       "      <th>4</th>\n",
       "      <td>convex</td>\n",
       "      <td>scaly</td>\n",
       "      <td>yellow</td>\n",
       "    </tr>\n",
       "    <tr>\n",
       "      <th>...</th>\n",
       "      <td>...</td>\n",
       "      <td>...</td>\n",
       "      <td>...</td>\n",
       "    </tr>\n",
       "    <tr>\n",
       "      <th>8118</th>\n",
       "      <td>knobbed</td>\n",
       "      <td>smooth</td>\n",
       "      <td>brown</td>\n",
       "    </tr>\n",
       "    <tr>\n",
       "      <th>8119</th>\n",
       "      <td>convex</td>\n",
       "      <td>smooth</td>\n",
       "      <td>brown</td>\n",
       "    </tr>\n",
       "    <tr>\n",
       "      <th>8120</th>\n",
       "      <td>flat</td>\n",
       "      <td>smooth</td>\n",
       "      <td>brown</td>\n",
       "    </tr>\n",
       "    <tr>\n",
       "      <th>8121</th>\n",
       "      <td>knobbed</td>\n",
       "      <td>scaly</td>\n",
       "      <td>brown</td>\n",
       "    </tr>\n",
       "    <tr>\n",
       "      <th>8122</th>\n",
       "      <td>convex</td>\n",
       "      <td>smooth</td>\n",
       "      <td>brown</td>\n",
       "    </tr>\n",
       "  </tbody>\n",
       "</table>\n",
       "<p>8123 rows × 3 columns</p>\n",
       "</div>"
      ],
      "text/plain": [
       "        shape surface   color\n",
       "0      convex  smooth  yellow\n",
       "1        bell  smooth   white\n",
       "2      convex   scaly   white\n",
       "3      convex  smooth    gray\n",
       "4      convex   scaly  yellow\n",
       "...       ...     ...     ...\n",
       "8118  knobbed  smooth   brown\n",
       "8119   convex  smooth   brown\n",
       "8120     flat  smooth   brown\n",
       "8121  knobbed   scaly   brown\n",
       "8122   convex  smooth   brown\n",
       "\n",
       "[8123 rows x 3 columns]"
      ]
     },
     "execution_count": 3,
     "metadata": {},
     "output_type": "execute_result"
    }
   ],
   "source": [
    "# Get X. Leave out target\n",
    "X = mushroom.iloc[:, :-1]\n",
    "X"
   ]
  },
  {
   "cell_type": "code",
   "execution_count": 4,
   "metadata": {},
   "outputs": [
    {
     "data": {
      "text/plain": [
       "0          edible\n",
       "1          edible\n",
       "2       poisonous\n",
       "3          edible\n",
       "4          edible\n",
       "          ...    \n",
       "8118       edible\n",
       "8119       edible\n",
       "8120       edible\n",
       "8121    poisonous\n",
       "8122       edible\n",
       "Name: target, Length: 8123, dtype: object"
      ]
     },
     "execution_count": 4,
     "metadata": {},
     "output_type": "execute_result"
    }
   ],
   "source": [
    "# Get target\n",
    "y = mushroom.iloc[:, -1]\n",
    "y"
   ]
  },
  {
   "cell_type": "code",
   "execution_count": 5,
   "metadata": {},
   "outputs": [
    {
     "data": {
      "text/html": [
       "<div>\n",
       "<style scoped>\n",
       "    .dataframe tbody tr th:only-of-type {\n",
       "        vertical-align: middle;\n",
       "    }\n",
       "\n",
       "    .dataframe tbody tr th {\n",
       "        vertical-align: top;\n",
       "    }\n",
       "\n",
       "    .dataframe thead th {\n",
       "        text-align: right;\n",
       "    }\n",
       "</style>\n",
       "<table border=\"1\" class=\"dataframe\">\n",
       "  <thead>\n",
       "    <tr style=\"text-align: right;\">\n",
       "      <th></th>\n",
       "      <th>shape_bell</th>\n",
       "      <th>shape_conical</th>\n",
       "      <th>shape_convex</th>\n",
       "      <th>shape_flat</th>\n",
       "      <th>shape_knobbed</th>\n",
       "      <th>shape_sunken</th>\n",
       "      <th>surface_fibrous</th>\n",
       "      <th>surface_grooves</th>\n",
       "      <th>surface_scaly</th>\n",
       "      <th>surface_smooth</th>\n",
       "      <th>color_brown</th>\n",
       "      <th>color_buff</th>\n",
       "      <th>color_cinnamon</th>\n",
       "      <th>color_gray</th>\n",
       "      <th>color_green</th>\n",
       "      <th>color_pink</th>\n",
       "      <th>color_purple</th>\n",
       "      <th>color_red</th>\n",
       "      <th>color_white</th>\n",
       "      <th>color_yellow</th>\n",
       "    </tr>\n",
       "  </thead>\n",
       "  <tbody>\n",
       "    <tr>\n",
       "      <th>0</th>\n",
       "      <td>0</td>\n",
       "      <td>0</td>\n",
       "      <td>1</td>\n",
       "      <td>0</td>\n",
       "      <td>0</td>\n",
       "      <td>0</td>\n",
       "      <td>0</td>\n",
       "      <td>0</td>\n",
       "      <td>0</td>\n",
       "      <td>1</td>\n",
       "      <td>0</td>\n",
       "      <td>0</td>\n",
       "      <td>0</td>\n",
       "      <td>0</td>\n",
       "      <td>0</td>\n",
       "      <td>0</td>\n",
       "      <td>0</td>\n",
       "      <td>0</td>\n",
       "      <td>0</td>\n",
       "      <td>1</td>\n",
       "    </tr>\n",
       "    <tr>\n",
       "      <th>1</th>\n",
       "      <td>1</td>\n",
       "      <td>0</td>\n",
       "      <td>0</td>\n",
       "      <td>0</td>\n",
       "      <td>0</td>\n",
       "      <td>0</td>\n",
       "      <td>0</td>\n",
       "      <td>0</td>\n",
       "      <td>0</td>\n",
       "      <td>1</td>\n",
       "      <td>0</td>\n",
       "      <td>0</td>\n",
       "      <td>0</td>\n",
       "      <td>0</td>\n",
       "      <td>0</td>\n",
       "      <td>0</td>\n",
       "      <td>0</td>\n",
       "      <td>0</td>\n",
       "      <td>1</td>\n",
       "      <td>0</td>\n",
       "    </tr>\n",
       "    <tr>\n",
       "      <th>2</th>\n",
       "      <td>0</td>\n",
       "      <td>0</td>\n",
       "      <td>1</td>\n",
       "      <td>0</td>\n",
       "      <td>0</td>\n",
       "      <td>0</td>\n",
       "      <td>0</td>\n",
       "      <td>0</td>\n",
       "      <td>1</td>\n",
       "      <td>0</td>\n",
       "      <td>0</td>\n",
       "      <td>0</td>\n",
       "      <td>0</td>\n",
       "      <td>0</td>\n",
       "      <td>0</td>\n",
       "      <td>0</td>\n",
       "      <td>0</td>\n",
       "      <td>0</td>\n",
       "      <td>1</td>\n",
       "      <td>0</td>\n",
       "    </tr>\n",
       "    <tr>\n",
       "      <th>3</th>\n",
       "      <td>0</td>\n",
       "      <td>0</td>\n",
       "      <td>1</td>\n",
       "      <td>0</td>\n",
       "      <td>0</td>\n",
       "      <td>0</td>\n",
       "      <td>0</td>\n",
       "      <td>0</td>\n",
       "      <td>0</td>\n",
       "      <td>1</td>\n",
       "      <td>0</td>\n",
       "      <td>0</td>\n",
       "      <td>0</td>\n",
       "      <td>1</td>\n",
       "      <td>0</td>\n",
       "      <td>0</td>\n",
       "      <td>0</td>\n",
       "      <td>0</td>\n",
       "      <td>0</td>\n",
       "      <td>0</td>\n",
       "    </tr>\n",
       "    <tr>\n",
       "      <th>4</th>\n",
       "      <td>0</td>\n",
       "      <td>0</td>\n",
       "      <td>1</td>\n",
       "      <td>0</td>\n",
       "      <td>0</td>\n",
       "      <td>0</td>\n",
       "      <td>0</td>\n",
       "      <td>0</td>\n",
       "      <td>1</td>\n",
       "      <td>0</td>\n",
       "      <td>0</td>\n",
       "      <td>0</td>\n",
       "      <td>0</td>\n",
       "      <td>0</td>\n",
       "      <td>0</td>\n",
       "      <td>0</td>\n",
       "      <td>0</td>\n",
       "      <td>0</td>\n",
       "      <td>0</td>\n",
       "      <td>1</td>\n",
       "    </tr>\n",
       "    <tr>\n",
       "      <th>...</th>\n",
       "      <td>...</td>\n",
       "      <td>...</td>\n",
       "      <td>...</td>\n",
       "      <td>...</td>\n",
       "      <td>...</td>\n",
       "      <td>...</td>\n",
       "      <td>...</td>\n",
       "      <td>...</td>\n",
       "      <td>...</td>\n",
       "      <td>...</td>\n",
       "      <td>...</td>\n",
       "      <td>...</td>\n",
       "      <td>...</td>\n",
       "      <td>...</td>\n",
       "      <td>...</td>\n",
       "      <td>...</td>\n",
       "      <td>...</td>\n",
       "      <td>...</td>\n",
       "      <td>...</td>\n",
       "      <td>...</td>\n",
       "    </tr>\n",
       "    <tr>\n",
       "      <th>8118</th>\n",
       "      <td>0</td>\n",
       "      <td>0</td>\n",
       "      <td>0</td>\n",
       "      <td>0</td>\n",
       "      <td>1</td>\n",
       "      <td>0</td>\n",
       "      <td>0</td>\n",
       "      <td>0</td>\n",
       "      <td>0</td>\n",
       "      <td>1</td>\n",
       "      <td>1</td>\n",
       "      <td>0</td>\n",
       "      <td>0</td>\n",
       "      <td>0</td>\n",
       "      <td>0</td>\n",
       "      <td>0</td>\n",
       "      <td>0</td>\n",
       "      <td>0</td>\n",
       "      <td>0</td>\n",
       "      <td>0</td>\n",
       "    </tr>\n",
       "    <tr>\n",
       "      <th>8119</th>\n",
       "      <td>0</td>\n",
       "      <td>0</td>\n",
       "      <td>1</td>\n",
       "      <td>0</td>\n",
       "      <td>0</td>\n",
       "      <td>0</td>\n",
       "      <td>0</td>\n",
       "      <td>0</td>\n",
       "      <td>0</td>\n",
       "      <td>1</td>\n",
       "      <td>1</td>\n",
       "      <td>0</td>\n",
       "      <td>0</td>\n",
       "      <td>0</td>\n",
       "      <td>0</td>\n",
       "      <td>0</td>\n",
       "      <td>0</td>\n",
       "      <td>0</td>\n",
       "      <td>0</td>\n",
       "      <td>0</td>\n",
       "    </tr>\n",
       "    <tr>\n",
       "      <th>8120</th>\n",
       "      <td>0</td>\n",
       "      <td>0</td>\n",
       "      <td>0</td>\n",
       "      <td>1</td>\n",
       "      <td>0</td>\n",
       "      <td>0</td>\n",
       "      <td>0</td>\n",
       "      <td>0</td>\n",
       "      <td>0</td>\n",
       "      <td>1</td>\n",
       "      <td>1</td>\n",
       "      <td>0</td>\n",
       "      <td>0</td>\n",
       "      <td>0</td>\n",
       "      <td>0</td>\n",
       "      <td>0</td>\n",
       "      <td>0</td>\n",
       "      <td>0</td>\n",
       "      <td>0</td>\n",
       "      <td>0</td>\n",
       "    </tr>\n",
       "    <tr>\n",
       "      <th>8121</th>\n",
       "      <td>0</td>\n",
       "      <td>0</td>\n",
       "      <td>0</td>\n",
       "      <td>0</td>\n",
       "      <td>1</td>\n",
       "      <td>0</td>\n",
       "      <td>0</td>\n",
       "      <td>0</td>\n",
       "      <td>1</td>\n",
       "      <td>0</td>\n",
       "      <td>1</td>\n",
       "      <td>0</td>\n",
       "      <td>0</td>\n",
       "      <td>0</td>\n",
       "      <td>0</td>\n",
       "      <td>0</td>\n",
       "      <td>0</td>\n",
       "      <td>0</td>\n",
       "      <td>0</td>\n",
       "      <td>0</td>\n",
       "    </tr>\n",
       "    <tr>\n",
       "      <th>8122</th>\n",
       "      <td>0</td>\n",
       "      <td>0</td>\n",
       "      <td>1</td>\n",
       "      <td>0</td>\n",
       "      <td>0</td>\n",
       "      <td>0</td>\n",
       "      <td>0</td>\n",
       "      <td>0</td>\n",
       "      <td>0</td>\n",
       "      <td>1</td>\n",
       "      <td>1</td>\n",
       "      <td>0</td>\n",
       "      <td>0</td>\n",
       "      <td>0</td>\n",
       "      <td>0</td>\n",
       "      <td>0</td>\n",
       "      <td>0</td>\n",
       "      <td>0</td>\n",
       "      <td>0</td>\n",
       "      <td>0</td>\n",
       "    </tr>\n",
       "  </tbody>\n",
       "</table>\n",
       "<p>8123 rows × 20 columns</p>\n",
       "</div>"
      ],
      "text/plain": [
       "      shape_bell  shape_conical  shape_convex  shape_flat  shape_knobbed  \\\n",
       "0              0              0             1           0              0   \n",
       "1              1              0             0           0              0   \n",
       "2              0              0             1           0              0   \n",
       "3              0              0             1           0              0   \n",
       "4              0              0             1           0              0   \n",
       "...          ...            ...           ...         ...            ...   \n",
       "8118           0              0             0           0              1   \n",
       "8119           0              0             1           0              0   \n",
       "8120           0              0             0           1              0   \n",
       "8121           0              0             0           0              1   \n",
       "8122           0              0             1           0              0   \n",
       "\n",
       "      shape_sunken  surface_fibrous  surface_grooves  surface_scaly  \\\n",
       "0                0                0                0              0   \n",
       "1                0                0                0              0   \n",
       "2                0                0                0              1   \n",
       "3                0                0                0              0   \n",
       "4                0                0                0              1   \n",
       "...            ...              ...              ...            ...   \n",
       "8118             0                0                0              0   \n",
       "8119             0                0                0              0   \n",
       "8120             0                0                0              0   \n",
       "8121             0                0                0              1   \n",
       "8122             0                0                0              0   \n",
       "\n",
       "      surface_smooth  color_brown  color_buff  color_cinnamon  color_gray  \\\n",
       "0                  1            0           0               0           0   \n",
       "1                  1            0           0               0           0   \n",
       "2                  0            0           0               0           0   \n",
       "3                  1            0           0               0           1   \n",
       "4                  0            0           0               0           0   \n",
       "...              ...          ...         ...             ...         ...   \n",
       "8118               1            1           0               0           0   \n",
       "8119               1            1           0               0           0   \n",
       "8120               1            1           0               0           0   \n",
       "8121               0            1           0               0           0   \n",
       "8122               1            1           0               0           0   \n",
       "\n",
       "      color_green  color_pink  color_purple  color_red  color_white  \\\n",
       "0               0           0             0          0            0   \n",
       "1               0           0             0          0            1   \n",
       "2               0           0             0          0            1   \n",
       "3               0           0             0          0            0   \n",
       "4               0           0             0          0            0   \n",
       "...           ...         ...           ...        ...          ...   \n",
       "8118            0           0             0          0            0   \n",
       "8119            0           0             0          0            0   \n",
       "8120            0           0             0          0            0   \n",
       "8121            0           0             0          0            0   \n",
       "8122            0           0             0          0            0   \n",
       "\n",
       "      color_yellow  \n",
       "0                1  \n",
       "1                0  \n",
       "2                0  \n",
       "3                0  \n",
       "4                1  \n",
       "...            ...  \n",
       "8118             0  \n",
       "8119             0  \n",
       "8120             0  \n",
       "8121             0  \n",
       "8122             0  \n",
       "\n",
       "[8123 rows x 20 columns]"
      ]
     },
     "execution_count": 5,
     "metadata": {},
     "output_type": "execute_result"
    }
   ],
   "source": [
    "# The three features in X are categorical. Convert to dummy features.\n",
    "X = pd.get_dummies(X)\n",
    "X"
   ]
  },
  {
   "cell_type": "code",
   "execution_count": 6,
   "metadata": {},
   "outputs": [
    {
     "data": {
      "text/plain": [
       "array([0, 0, 1, ..., 0, 1, 0])"
      ]
     },
     "execution_count": 6,
     "metadata": {},
     "output_type": "execute_result"
    }
   ],
   "source": [
    "# Convert target from text to integers\n",
    "le = LabelEncoder()\n",
    "y = le.fit_transform(y)\n",
    "y"
   ]
  },
  {
   "cell_type": "markdown",
   "metadata": {},
   "source": [
    "### Exercise 1. b) (10 points)"
   ]
  },
  {
   "cell_type": "markdown",
   "metadata": {},
   "source": [
    "**Instructions**"
   ]
  },
  {
   "cell_type": "markdown",
   "metadata": {},
   "source": [
    "1. Do **one** train-test split with `testsize=0.3` and `random_state=2`."
   ]
  },
  {
   "cell_type": "markdown",
   "metadata": {},
   "source": [
    "2. For feature importance permutation use the `feature_importance_permutation` function which is implemented in the python package **mlxtend** \n",
    "\n",
    "    https://rasbt.github.io/mlxtend/user_guide/evaluate/feature_importance_permutation/. \n",
    "    \n",
    "    For the parameters use:\n",
    "\n",
    "    * `metric='accuracy'`\n",
    "    * `num_rounds=5`\n",
    "    * `seed=1`"
   ]
  },
  {
   "cell_type": "markdown",
   "metadata": {},
   "source": [
    "3. **Compute** and **plot** feature importances for the classifiers listed below. Plot in the same manner as shown in the documentation of `feature_importance_permutation`, that is **bars** and **standard deviations** for each feature importance.\n",
    "    \n",
    "    * Logistic regression (use `C=10`, `solver='lbfgs'`, `n_jobs=-1`, `random_state=1`)\n",
    "    * Random forest classifier (use `n_estimators=50`, `n_jobs=-1`, `random_state=1`)\n",
    "    * K nearest neighbour classifier (use `metric='minkowski'`, `n_jobs=-1`)\n",
    "\n",
    "**NOTE**: Do not use the built-in feature importance in the random forest classifier. "
   ]
  },
  {
   "cell_type": "code",
   "execution_count": 7,
   "metadata": {},
   "outputs": [],
   "source": [
    "# Code for 1. b)\n",
    "\n",
    "# Split into training and test data as requested\n",
    "X_train, X_test, y_train, y_test = train_test_split(\n",
    "    X, y, test_size=0.3, random_state=2, stratify=y)\n",
    "\n",
    "# Scale training and test data\n",
    "scaler = StandardScaler()\n",
    "X_train_sc = scaler.fit_transform(X_train)\n",
    "X_test_sc = scaler.transform(X_test)"
   ]
  },
  {
   "cell_type": "code",
   "execution_count": 8,
   "metadata": {},
   "outputs": [],
   "source": [
    "# Set the number of rounds for permutation\n",
    "num_rounds = 5"
   ]
  },
  {
   "cell_type": "code",
   "execution_count": 9,
   "metadata": {},
   "outputs": [
    {
     "name": "stdout",
     "output_type": "stream",
     "text": [
      "Training accuracy 66.19767850861766\n",
      "Test accuracy 67.21378744357817\n"
     ]
    },
    {
     "data": {
      "image/png": "[encoded data removed]",
      "text/plain": [
       "<Figure size 432x288 with 1 Axes>"
      ]
     },
     "metadata": {
      "needs_background": "light"
     },
     "output_type": "display_data"
    }
   ],
   "source": [
    "# =============================================================================\n",
    "# Logistic regression\n",
    "# =============================================================================\n",
    "\n",
    "lr = LogisticRegression(C=10, solver='lbfgs', n_jobs=-1, random_state=1)\n",
    "lr.fit(X_train_sc, y_train)\n",
    "\n",
    "print('Training accuracy', np.mean(lr.predict(X_train_sc) == y_train)*100)\n",
    "print('Test accuracy', np.mean(lr.predict(X_test_sc) == y_test)*100)\n",
    "\n",
    "\n",
    "imp_vals, imp_all = feature_importance_permutation(\n",
    "    predict_method=lr.predict, \n",
    "    X=X_test_sc,\n",
    "    y=y_test,\n",
    "    metric='accuracy',\n",
    "    num_rounds=num_rounds,\n",
    "    seed=1)\n",
    "\n",
    "std = np.std(imp_all, axis=1)\n",
    "indices = np.argsort(imp_vals)[::-1]\n",
    "\n",
    "plt.figure()\n",
    "plt.title(\"LogReg feature importance via permutation importance w. std. dev.\")\n",
    "plt.bar(range(X.shape[1]), imp_vals[indices],\n",
    "        yerr=std[indices])\n",
    "plt.xticks(range(X.shape[1]), indices)\n",
    "plt.xlim([-1, X.shape[1]])\n",
    "plt.show()"
   ]
  },
  {
   "cell_type": "code",
   "execution_count": 10,
   "metadata": {},
   "outputs": [
    {
     "name": "stdout",
     "output_type": "stream",
     "text": [
      "Training accuracy 71.36827295110798\n",
      "Test accuracy 71.85063602790316\n"
     ]
    },
    {
     "data": {
      "image/png": "[encoded data removed]",
      "text/plain": [
       "<Figure size 432x288 with 1 Axes>"
      ]
     },
     "metadata": {
      "needs_background": "light"
     },
     "output_type": "display_data"
    }
   ],
   "source": [
    "# =============================================================================\n",
    "# Random forest feature importance permutation\n",
    "# =============================================================================\n",
    "rf = RandomForestClassifier(n_estimators=50,\n",
    "                            random_state=1,\n",
    "                            n_jobs=-1)\n",
    "\n",
    "rf.fit(X_train, y_train)\n",
    "\n",
    "print('Training accuracy', np.mean(rf.predict(X_train) == y_train)*100)\n",
    "print('Test accuracy', np.mean(rf.predict(X_test) == y_test)*100)\n",
    "\n",
    "\n",
    "imp_vals, imp_all = feature_importance_permutation(\n",
    "    predict_method=rf.predict, \n",
    "    X=X_test.values,\n",
    "    y=y_test,\n",
    "    metric='accuracy',\n",
    "    num_rounds=num_rounds,\n",
    "    seed=1)\n",
    "\n",
    "std = np.std(imp_all, axis=1)\n",
    "indices = np.argsort(imp_vals)[::-1]\n",
    "\n",
    "plt.figure()\n",
    "plt.title(\"Random forest feature importance via permutation importance w. std. dev.\")\n",
    "plt.bar(range(X.shape[1]), imp_vals[indices],\n",
    "        yerr=std[indices])\n",
    "plt.xticks(range(X.shape[1]), indices)\n",
    "plt.xlim([-1, X.shape[1]])\n",
    "plt.show()"
   ]
  },
  {
   "cell_type": "code",
   "execution_count": 11,
   "metadata": {},
   "outputs": [
    {
     "name": "stdout",
     "output_type": "stream",
     "text": [
      "Training accuracy 71.36827295110798\n",
      "Test accuracy 71.85063602790316\n"
     ]
    },
    {
     "data": {
      "image/png": "[encoded data removed]",
      "text/plain": [
       "<Figure size 432x288 with 1 Axes>"
      ]
     },
     "metadata": {
      "needs_background": "light"
     },
     "output_type": "display_data"
    }
   ],
   "source": [
    "# =============================================================================\n",
    "# KNN feature importance permutation\n",
    "# =============================================================================\n",
    "knn = KNeighborsClassifier(metric='minkowski',\n",
    "                           n_jobs=-1)\n",
    "knn.fit(X_train_sc, y_train)\n",
    "\n",
    "print('Training accuracy', np.mean(rf.predict(X_train) == y_train)*100)\n",
    "print('Test accuracy', np.mean(rf.predict(X_test) == y_test)*100)\n",
    "\n",
    "\n",
    "imp_vals, imp_all = feature_importance_permutation(\n",
    "    predict_method=knn.predict, \n",
    "    X=X_test_sc,\n",
    "    y=y_test,\n",
    "    metric='accuracy',\n",
    "    num_rounds=num_rounds,\n",
    "    seed=1)\n",
    "\n",
    "std = np.std(imp_all, axis=1)\n",
    "indices = np.argsort(imp_vals)[::-1]\n",
    "\n",
    "plt.figure()\n",
    "plt.title(\"KNN feature importance via permutation importance w. std. dev.\")\n",
    "plt.bar(range(X.shape[1]), imp_vals[indices],\n",
    "        yerr=std[indices])\n",
    "plt.xticks(range(X.shape[1]), indices)\n",
    "plt.xlim([-1, X.shape[1]])\n",
    "plt.show()"
   ]
  },
  {
   "cell_type": "markdown",
   "metadata": {},
   "source": [
    "### Exercise 1. c) (2 points)"
   ]
  },
  {
   "cell_type": "markdown",
   "metadata": {},
   "source": [
    "**Question**: Based on the feature importances you just computed with the three classifiers: \n",
    "\n",
    "**Name the top two most important properties of the mushrooms** for distinguishing whether a mushroom is edible or not. The results may vary a bit across the classifiers, therefore pick properties that seem to be consistent across classifiers. Do not provide the index only, provide also the name of the property.\n"
   ]
  },
  {
   "cell_type": "code",
   "execution_count": 12,
   "metadata": {},
   "outputs": [
    {
     "data": {
      "text/plain": [
       "'surface_fibrous'"
      ]
     },
     "execution_count": 12,
     "metadata": {},
     "output_type": "execute_result"
    }
   ],
   "source": [
    "# Code for 1. c)\n",
    "list(X.columns)[6]"
   ]
  },
  {
   "cell_type": "code",
   "execution_count": 13,
   "metadata": {},
   "outputs": [
    {
     "data": {
      "text/plain": [
       "'color_yellow'"
      ]
     },
     "execution_count": 13,
     "metadata": {},
     "output_type": "execute_result"
    }
   ],
   "source": [
    "list(X.columns)[19]"
   ]
  },
  {
   "cell_type": "markdown",
   "metadata": {},
   "source": [
    "### Exercise 1. d) (3 points)"
   ]
  },
  {
   "cell_type": "markdown",
   "metadata": {},
   "source": [
    "__Question__\n",
    "\n",
    "The feature importances that you computed in the above exercise may not give you a very robust or optimal estimate of feature importance. **Name three remedies or actions that you could do to improve the reliability of the estimates (of the feature importance)**."
   ]
  },
  {
   "cell_type": "markdown",
   "metadata": {},
   "source": [
    "__Answer 1. d)__\n",
    "\n",
    "There are a number of possible remedies: (three out of this list will be enough)\n",
    "\n",
    "1. Increase number of rounds for the permutations\n",
    "2. Use multiple train-test splits and average importances across those\n",
    "3. Compute drop column feature importance, since they provide the ground truth\n",
    "4. The hyperparameters of the classifiers are not tuned. Tune them and do feature importance permutation again with better performing classifiers\n"
   ]
  },
  {
   "cell_type": "markdown",
   "metadata": {},
   "source": [
    "---"
   ]
  },
  {
   "cell_type": "markdown",
   "metadata": {},
   "source": [
    "## Exercise 2 - Logistic regression (12 points)"
   ]
  },
  {
   "cell_type": "markdown",
   "metadata": {},
   "source": [
    "You have trained a logistic regression classifier in scikit-learn on a dataset that has 347 samples and 17 features. Assume that this is your final model after hyperparameter tuning and validation. There are 8 different classes in the dataset. "
   ]
  },
  {
   "cell_type": "markdown",
   "metadata": {},
   "source": [
    "### Exercise 2. a) (4 points)"
   ]
  },
  {
   "cell_type": "markdown",
   "metadata": {},
   "source": [
    "__Questions__"
   ]
  },
  {
   "cell_type": "markdown",
   "metadata": {},
   "source": [
    "1. What is the dimension of the array that holds the class probabilities of all training samples?"
   ]
  },
  {
   "cell_type": "markdown",
   "metadata": {},
   "source": [
    "2. What do the rows and columns represent in that array?"
   ]
  },
  {
   "cell_type": "markdown",
   "metadata": {},
   "source": [
    "__Answers 2. a)__\n",
    "\n",
    "1. The dimensions of that array are $(347 \\times 8)$.\n",
    "2. The rows represent samples and the columns represent the probability of the sample belonging to each of classes."
   ]
  },
  {
   "cell_type": "markdown",
   "metadata": {},
   "source": [
    "### Exercise 2. b) (4 points)"
   ]
  },
  {
   "cell_type": "markdown",
   "metadata": {},
   "source": [
    "__Question__"
   ]
  },
  {
   "cell_type": "markdown",
   "metadata": {},
   "source": [
    "What is the number of weights in your classifier? Explain how you find that number."
   ]
  },
  {
   "cell_type": "markdown",
   "metadata": {},
   "source": [
    "__Answer 2. b)__\n",
    "\n",
    "* We have a One-vs-All (One-vs-Rest) situation since logistic regression is a binary classifier\n",
    "* This means that with 8 classes we have a total of 8 models\n",
    "* We have a total of 17 features\n",
    "* Total number of weights: 8 models * (17 features + 1 bias) = 144"
   ]
  },
  {
   "cell_type": "markdown",
   "metadata": {},
   "source": [
    "### Exercise 2. c) (4 points)"
   ]
  },
  {
   "cell_type": "markdown",
   "metadata": {},
   "source": [
    "__Questions__"
   ]
  },
  {
   "cell_type": "markdown",
   "metadata": {},
   "source": [
    "Assume that your logistic regression model is done training and that it classifies all samples in the training data correctly. Is it possible that the total cost of the last training epoch is non-zero, even if the model predicts all training samples correctly? Explain why."
   ]
  },
  {
   "cell_type": "markdown",
   "metadata": {},
   "source": [
    "__Answer 2. c)__\n",
    "\n",
    "* Yes, it is possible that the total cost is non-zero even though all samples are classified correctly. \n",
    "* Example: if the label of a sample is $1$ and its $\\phi(z)=0.98$ it will be classified correctly, but the cost is non-zero: $-log(0.98) = 0.00878$ for that sample. Note that the total cost is computed across all samples after the epoch.\n",
    "* The above situation may happen when the optimisation of weights is stopped because all samples are correctly classified during training."
   ]
  },
  {
   "cell_type": "markdown",
   "metadata": {},
   "source": [
    "---"
   ]
  },
  {
   "cell_type": "markdown",
   "metadata": {},
   "source": [
    "## Exercise 3 - Decision Trees (8 points)"
   ]
  },
  {
   "cell_type": "markdown",
   "metadata": {},
   "source": [
    "This exercise contains questions regarding the decision tree classifier algorithm."
   ]
  },
  {
   "cell_type": "markdown",
   "metadata": {},
   "source": [
    "### Exercise 3. a) (4 points)"
   ]
  },
  {
   "cell_type": "markdown",
   "metadata": {},
   "source": [
    "__Question__"
   ]
  },
  {
   "cell_type": "markdown",
   "metadata": {},
   "source": [
    "Can binary decision trees be used for multiclass classification problems? Explain why."
   ]
  },
  {
   "cell_type": "markdown",
   "metadata": {},
   "source": [
    "__Answers 3. a)__:  \n",
    "\n",
    "Yes, binary decision trees can be used for multiclass classification problems. The specific property of binary decision trees is that they split the samples of a parent node into exactly two child nodes. They do so regardless of the number of classes. "
   ]
  },
  {
   "cell_type": "markdown",
   "metadata": {},
   "source": [
    "### Exercise 3. b) (4 points)"
   ]
  },
  {
   "cell_type": "markdown",
   "metadata": {},
   "source": [
    "__Question__"
   ]
  },
  {
   "cell_type": "markdown",
   "metadata": {},
   "source": [
    "Consider the impurity measure **entropy**. Is the maximum entropy in a node dependent on the number of classes? Provide simple computations that support your answer."
   ]
  },
  {
   "cell_type": "markdown",
   "metadata": {},
   "source": [
    "__Answers 3. b)__:  \n",
    "\n",
    "Yes, the maximum entropy is dependent on the number of classes.\n",
    "\n",
    "Maximum entropy occurs when class distribution in a node is uniform. One can support the answer by computing the entropy for different number of classes with the assumption that the class distribution is uniform.\n",
    "\n",
    "$p(i|t)$ is the proportion of samples belonging to class $i$ in a particular node $t$.\n",
    "\n",
    "Entropy $I_{H}(t) = - \\sum_{i=1}^{c} p(i|t)log_{2}p(i|t)$ \n",
    "\n",
    "__2 classes__:\n",
    "\n",
    "Uniform distribution means that p(i|t) = 0.5 for each class.\n",
    "Entropy IH = - ( 0.5 * log2(0.5) + 0.5 * log2(0.5) = - (0.5 * -1 + 0.5 * -1) = 1\n",
    "\n",
    "__4 classes__:\n",
    "\n",
    "Uniform distribution means that p(i|t) = 0.25 for each class.\n",
    "Entropy IH = - ( 0.25 * log2(0.25) + 0.25 * log2(0.25) + 0.25 * log2(0.25) + 0.25 * log2(0.25)) = - (0.25 * -2 + 0.25 * -2 + 0.25 * -2 + 0.25 * -2) = 2\n",
    "\n",
    "The computation proves that the entropy for 4 classes is twice as high as the entropy for two classes."
   ]
  },
  {
   "cell_type": "markdown",
   "metadata": {},
   "source": [
    "---"
   ]
  },
  {
   "cell_type": "markdown",
   "metadata": {},
   "source": [
    "## Exercise 4 - Dimensionality reduction and feature extraction (16 points)"
   ]
  },
  {
   "cell_type": "markdown",
   "metadata": {},
   "source": [
    "You have a dataset with 288 samples and 8 features ($X$) and one target ($y$). The dataset has four classes."
   ]
  },
  {
   "cell_type": "markdown",
   "metadata": {},
   "source": [
    "### Exercise 4. a) (4 points)"
   ]
  },
  {
   "cell_type": "markdown",
   "metadata": {},
   "source": [
    "__Question__"
   ]
  },
  {
   "cell_type": "markdown",
   "metadata": {},
   "source": [
    "First you use PCA (principal component analysis) to extract four features from it, or in other words four principal components. \n",
    "\n",
    "1. What is the dimension of the transformed array $X'$? What do the rows and columns represent?\n",
    "2. What is the dimension of the transformation array $W$?\n",
    "3. What is the dimension of the covariance matrix $\\Sigma$?"
   ]
  },
  {
   "cell_type": "markdown",
   "metadata": {},
   "source": [
    "__Answers 4. a)__\n",
    "\n",
    "1. $(288 \\times 4)$. Rows represent samples, columns represent principal components.\n",
    "2. $(8 \\times 4)$\n",
    "3. $(8 \\times 8)$"
   ]
  },
  {
   "cell_type": "markdown",
   "metadata": {},
   "source": [
    "### Exercise 4. b) (4 points)"
   ]
  },
  {
   "cell_type": "markdown",
   "metadata": {},
   "source": [
    "__Question__"
   ]
  },
  {
   "cell_type": "markdown",
   "metadata": {},
   "source": [
    "Assume that the following eigenvalues have been extracted from $X$ (see below). What would be the cumulative explained variance for the first two components (sum of PC1 and PC2)?"
   ]
  },
  {
   "cell_type": "code",
   "execution_count": 14,
   "metadata": {},
   "outputs": [],
   "source": [
    "eigenvalues = [4, 36, 19, 78, 2, 43, 11, 50]"
   ]
  },
  {
   "cell_type": "code",
   "execution_count": 15,
   "metadata": {},
   "outputs": [
    {
     "data": {
      "text/plain": [
       "[78, 50, 43, 36, 19, 11, 4, 2]"
      ]
     },
     "execution_count": 15,
     "metadata": {},
     "output_type": "execute_result"
    }
   ],
   "source": [
    "# Code for 4. b)\n",
    "# Sort eigenvalues by size\n",
    "eigenvalues.sort(reverse=True)\n",
    "eigenvalues"
   ]
  },
  {
   "cell_type": "code",
   "execution_count": 16,
   "metadata": {},
   "outputs": [
    {
     "data": {
      "text/plain": [
       "243"
      ]
     },
     "execution_count": 16,
     "metadata": {},
     "output_type": "execute_result"
    }
   ],
   "source": [
    "# Compute sum over all eigenvalues\n",
    "sum(eigenvalues)"
   ]
  },
  {
   "cell_type": "code",
   "execution_count": 1,
   "metadata": {},
   "outputs": [
    {
     "data": {
      "text/plain": [
       "0.5267489711934157"
      ]
     },
     "execution_count": 1,
     "metadata": {},
     "output_type": "execute_result"
    }
   ],
   "source": [
    "# The sum of the explained variance from PC1 and PC2 is the sum of the two highest eigenvalues devided by the sum of all eigenvalues\n",
    "(78 + 50) / 243"
   ]
  },
  {
   "cell_type": "markdown",
   "metadata": {},
   "source": [
    "### Exercise 4. c) (4 points)"
   ]
  },
  {
   "cell_type": "markdown",
   "metadata": {},
   "source": [
    "__Question__"
   ]
  },
  {
   "cell_type": "markdown",
   "metadata": {},
   "source": [
    "Now let us assume that you now use LDA (Linear Discriminant Analysis) to extract features. How many features can you extract from the data? Show how you compute that number."
   ]
  },
  {
   "cell_type": "markdown",
   "metadata": {},
   "source": [
    "__Answer 4. c)__\n",
    "\n",
    "The maximum number of features one can extract from the dataset is $c - 1$, where $c$ represents the number of classes. This means that the maximum number of features one can extract here is $4 - 1 = 3$."
   ]
  },
  {
   "cell_type": "markdown",
   "metadata": {},
   "source": [
    "### Exercise 4. d) (4 points)"
   ]
  },
  {
   "cell_type": "markdown",
   "metadata": {},
   "source": [
    "__Questions__"
   ]
  },
  {
   "cell_type": "markdown",
   "metadata": {},
   "source": [
    "1. What are the dimensions of the within-scatter matrix $S_{W}$?\n",
    "2. What are the dimensions of the between-scatter matrix $S_{B}$?"
   ]
  },
  {
   "cell_type": "markdown",
   "metadata": {},
   "source": [
    "__Answer 4. d)__\n",
    "\n",
    "1. $(8 \\times 8)$\n",
    "2. $(8 \\times 8)$"
   ]
  },
  {
   "cell_type": "markdown",
   "metadata": {},
   "source": [
    "---"
   ]
  },
  {
   "cell_type": "markdown",
   "metadata": {},
   "source": [
    "## Exercise 5 - regression (8 points)"
   ]
  },
  {
   "cell_type": "markdown",
   "metadata": {},
   "source": [
    "### Exercise 5. a) (4 points)"
   ]
  },
  {
   "cell_type": "markdown",
   "metadata": {},
   "source": [
    "A regression model has been fitted on ( _Xtrain, Ytrain_ ) and predictions have been performed on new data ( _Xtest, Ytest_ ). The scoring returned: $R^2 = -0.2$ for the new data.  \n",
    "  \n",
    "__Questions:__  \n",
    "1. In general, how can $R^2$ become negative with respect to how it is calculated?  \n",
    "2. What could be reasons for this kind of model performance (give at least two reasons)?"
   ]
  },
  {
   "cell_type": "markdown",
   "metadata": {},
   "source": [
    "__Answers 5. a)__:  \n",
    "1. :  $R^2$ = 1 - SSE/SST. If the prediction error is so large that SSE > SST, $R^2$ becomes negative.\n",
    "2. : (1) Little information about the target in the features. (2) Too simple model. (3) Need for transformation, kernel or different type of model. (4) Outliers."
   ]
  },
  {
   "cell_type": "markdown",
   "metadata": {},
   "source": [
    "### Exercise 5. b) (4 points)"
   ]
  },
  {
   "cell_type": "markdown",
   "metadata": {},
   "source": [
    "Being thorough, you have tested all the regression models from DAT200 on a data set ( _Xtrain, Ytrain_ ), where the target is continuous. Naturally, you perform predictions on a new data ( _Xtest, Ytest_ ) having 1000 objects and save all the predictions.  \n",
    "  \n",
    "__Questions:__  \n",
    "1. You notice that some of the predictions seem to be discrete (limited number of predicted values). Which type of regression methods behave like this, and why does it happen?  \n",
    "2. All results are scored using $R^2$. For your final choice of regression method, would you be satisfied deciding based on $R^2$, or are there other aspects to consider?"
   ]
  },
  {
   "cell_type": "markdown",
   "metadata": {},
   "source": [
    "__Answers 5. b)__:  \n",
    "1. :  Tree based regression has a limited number of possible prediction (staircase in prediction plots). Modelling is done by sequential splitting of the target into a discrete number of levels along when the features are split. Any prediction will be one of these discrete levels.\n",
    "2. : $R^2$ is only a measure of explained variance, but does not describe how the model adapts locally, how outliers are handled or if possible model assumptions are met. Generalization might not be good. $R^2$ is also vulnerable because of its basis in SST."
   ]
  },
  {
   "cell_type": "markdown",
   "metadata": {},
   "source": [
    "## Exercise 6 - pipelines and tuning (16 points)"
   ]
  },
  {
   "cell_type": "markdown",
   "metadata": {},
   "source": [
    "A set of Near Infrared (NIR) spectra have been recorded on yogurts and the yogurts' protein content have been determined through reference analyses. The data are saved as data/yoghurt.csv (columns: sample-number x 1, protein content x 1, NIR data x 401, rows: header including wavelengths in nanometers/nm x 1, samples x 100).  \n",
    "Your task will be to predict protein content using the procedures described below.  \n",
    "  \n",
    "You will create two pipelines containing three steps each:\n",
    "1. Standard Normal Variate pre-processing (with centring and scaling of samples instead of features)\n",
    "2. Data compression\n",
    "3. LASSO regression  \n",
    "  \n",
    "The \"Data compression\" in step 2. should be Principal Component Analysis in the first pipeline and Partial Least Squares Regression (without feature scaling) in the second pipeline (see cell below about using PLSRegression in a pipeline)."
   ]
  },
  {
   "cell_type": "code",
   "execution_count": 18,
   "metadata": {},
   "outputs": [],
   "source": [
    "# A simple wrapper that makes PLSRegression usable for compression (like PCA) in a pipeline.\n",
    "# When used in a pipeline, exchange PLSRegression with PLSRegressionWrapper.\n",
    "from sklearn.cross_decomposition import PLSRegression\n",
    "class PLSRegressionWrapper(PLSRegression):\n",
    "    def transform(self, X):\n",
    "        return super().transform(X)\n",
    "\n",
    "    def fit_transform(self, X, Y):\n",
    "        return self.fit(X, Y).transform(X)\n",
    "\n",
    "# A wrapper that turns feature scaling into sample scaling (Standard Normal Variate)\n",
    "from sklearn.preprocessing import StandardScaler\n",
    "from sklearn.preprocessing import scale\n",
    "import numpy as np\n",
    "\n",
    "class SNV(StandardScaler):\n",
    "    def fit(self, X):\n",
    "        return super().fit(X.T)\n",
    "\n",
    "    def transform(self, X):\n",
    "        return scale(X, axis=1)\n",
    "\n",
    "    def fit_transform(self, X, Y):\n",
    "        return scale(X, axis=1)"
   ]
  },
  {
   "cell_type": "markdown",
   "metadata": {},
   "source": [
    "### Exercise 6. a) (8 points)\n",
    "Code the two pipelines, fix number of components at 5 and LASSO shrinkage at alpha=0.01 and fit the pipelines using the NIR data. Extract the LASSO coefficients of both pipelines after fitting and describe differences."
   ]
  },
  {
   "cell_type": "code",
   "execution_count": 19,
   "metadata": {},
   "outputs": [
    {
     "name": "stdout",
     "output_type": "stream",
     "text": [
      "[ 0.  0.  0. -0. -0.]\n",
      "[-1.89783029 -2.32626051  5.05298231  6.06021699  0.        ]\n"
     ]
    }
   ],
   "source": [
    "# Code for 6. a)\n",
    "from sklearn.decomposition import PCA\n",
    "from sklearn.linear_model  import Lasso\n",
    "from sklearn.pipeline      import make_pipeline\n",
    "\n",
    "pipe_pca = make_pipeline(SNV(),     # Scaling of input samples\n",
    "                        PCA(n_components=5),\n",
    "                        Lasso(alpha=0.01))\n",
    "pipe_pca\n",
    "\n",
    "pipe_pls = make_pipeline(SNV(),     # Scaling of input samples\n",
    "                        PLSRegressionWrapper(n_components=5, scale=False),\n",
    "                        Lasso(alpha=0.01))\n",
    "pipe_pls\n",
    "\n",
    "# Fitting\n",
    "import pandas as pd\n",
    "yogurt = pd.read_csv('data/yogurt.csv')\n",
    "Y = yogurt.values[:,1]\n",
    "X = yogurt.values[:,2:]\n",
    "\n",
    "pipe_pca.fit(X,Y)\n",
    "print(pipe_pca.steps[2][1].coef_)\n",
    "pipe_pls.fit(X,Y)\n",
    "print(pipe_pls.steps[2][1].coef_)\n"
   ]
  },
  {
   "cell_type": "markdown",
   "metadata": {},
   "source": [
    "__Description/comments for 6 a)__  \n",
    "Answer: The LASSO coefficients with PCA in the pipeline are all zero, while the corresponding for PLS are non-zero for 4 coefficients. This indicates that PCA has not found anything interesting for predicting the response, at least not when shrunk with alpha = 0.01. This can be verified by looking at predicted values."
   ]
  },
  {
   "cell_type": "markdown",
   "metadata": {},
   "source": [
    "### Exercise 6. b) (8 points)\n",
    "Use gridsearch with cross-validation to search for the optimal combination of component number and LASSO shrinkage using both pipelines above. Let components range from 1 to 10 and shrinkage range in $[10^{-4},10^{-3},10^{-2},10^{-1}]$. Comment on the results from the gridsearch, e.g. optimal parameter values, which pipeline \"won\", etc."
   ]
  },
  {
   "cell_type": "code",
   "execution_count": 20,
   "metadata": {},
   "outputs": [
    {
     "name": "stdout",
     "output_type": "stream",
     "text": [
      "0.6006834335091973\n",
      "{'lasso__alpha': 0.0001, 'pca__n_components': 10}\n",
      "0.9460526223746607\n",
      "{'lasso__alpha': 0.0001, 'plsregressionwrapper__n_components': 10}\n"
     ]
    }
   ],
   "source": [
    "# Code for 6. b)\n",
    "from sklearn.model_selection import GridSearchCV\n",
    "param_alpha  = [10**-4, 10**-3, 10**-2, 10**-1]\n",
    "param_comp   = list(range(1,11))\n",
    "\n",
    "param_grid_pca   = {'pca__n_components': param_comp, 'lasso__alpha': param_alpha}\n",
    "param_grid_pls   = {'plsregressionwrapper__n_components': param_comp, 'lasso__alpha': param_alpha}\n",
    "\n",
    "gs_pca = GridSearchCV(estimator=pipe_pca, \n",
    "                  param_grid=param_grid_pca, \n",
    "                  scoring='r2', \n",
    "                  cv=10,\n",
    "                  n_jobs=1)\n",
    "\n",
    "gs_pca = gs_pca.fit(X, Y)\n",
    "print(gs_pca.best_score_)\n",
    "print(gs_pca.best_params_)\n",
    "\n",
    "gs_pls = GridSearchCV(estimator=pipe_pls, \n",
    "                  param_grid=param_grid_pls, \n",
    "                  scoring='r2', \n",
    "                  cv=10,\n",
    "                  n_jobs=1)\n",
    "\n",
    "gs_pls = gs_pls.fit(X, Y)\n",
    "print(gs_pls.best_score_)\n",
    "print(gs_pls.best_params_)"
   ]
  },
  {
   "cell_type": "markdown",
   "metadata": {},
   "source": [
    "__Description/comments for 6 b)__  \n",
    "Answer: Both pipelines work best with minimum L1 shrinkage, i.e. almost linear regression. Both PCA and PLSR use as many components as possible, though PLSR seems to be much more successful in extracting relevant information for the target, i.e. the winner!"
   ]
  },
  {
   "cell_type": "markdown",
   "metadata": {},
   "source": [
    "---"
   ]
  },
  {
   "cell_type": "markdown",
   "metadata": {},
   "source": [
    "## Exercise 7 - clustering (16 points)"
   ]
  },
  {
   "cell_type": "markdown",
   "metadata": {},
   "source": [
    "Studying the rings of Saturn, a scientist has observed that what was previously thought to be a single ring now can be split into two rings, due to improved hyperspectral images (chemical analysis from multi-channel photos). In the plot below, the small rocks in the rings are plotted in contrast colours indicating low (0) carbon and high (1) carbon contents. The centre of Saturn is the origin and the rocks move in near perfect circles around the planet."
   ]
  },
  {
   "cell_type": "code",
   "execution_count": 21,
   "metadata": {},
   "outputs": [
    {
     "data": {
      "image/png": "[encoded data removed]",
      "text/plain": [
       "<Figure size 432x288 with 1 Axes>"
      ]
     },
     "metadata": {
      "needs_background": "light"
     },
     "output_type": "display_data"
    }
   ],
   "source": [
    "# Code which creates and visualizes the data\n",
    "from sklearn.datasets import make_circles\n",
    "import numpy as np\n",
    "import matplotlib.pyplot as plt\n",
    "from mpl_toolkits.mplot3d import Axes3D\n",
    "\n",
    "coordinates, carbon = make_circles(n_samples=1000, factor=.65, noise=.05, random_state=1506)\n",
    "coordinates = np.hstack([coordinates, np.random.normal(0,0.001,[1000,1])])\n",
    "\n",
    "fig = plt.figure(); ax = fig.add_subplot(111, projection='3d')\n",
    "ax.scatter(coordinates[:,0], coordinates[:,1], coordinates[:,2], c=carbon)\n",
    "ax.set_zlim([-1,1])\n",
    "plt.show()"
   ]
  },
  {
   "cell_type": "markdown",
   "metadata": {},
   "source": [
    "### Exercise 7. a) (8 points)\n",
    "\n",
    "Unfortunately, the hyperspectral images have been lost when one of NASA's a data centres was burned to the ground by extremists from the flat earth society. The scientist therefore wants to try to cluster the rocks in the two rings based on their 3D coordinates obtained from ordinary photos.  \n",
    "  \n",
    "1. Use a suitable clustering technique to cluster the two rings. (Outliers might need special care.)  \n",
    "2. How close to the true classes (based on carbon quantification) can you come? Report this as a confusion matrix."
   ]
  },
  {
   "cell_type": "code",
   "execution_count": 22,
   "metadata": {},
   "outputs": [
    {
     "data": {
      "image/png": "[encoded data removed]",
      "text/plain": [
       "<Figure size 432x288 with 1 Axes>"
      ]
     },
     "metadata": {
      "needs_background": "light"
     },
     "output_type": "display_data"
    },
    {
     "name": "stdout",
     "output_type": "stream",
     "text": [
      "[[  0   0   0]\n",
      " [  6 494   0]\n",
      " [  0   0 500]]\n"
     ]
    }
   ],
   "source": [
    "# Code for 7. a)\n",
    "# Can be solved by Agglomerative clustering too, here DBSCAN\n",
    "from sklearn.cluster import DBSCAN\n",
    "\n",
    "db = DBSCAN(eps=0.1, min_samples=5, metric='euclidean')\n",
    "y_db = db.fit_predict(coordinates)\n",
    "\n",
    "fig = plt.figure()\n",
    "ax = fig.add_subplot(111, projection='3d')\n",
    "ax.scatter(coordinates[:, 0], coordinates[:, 1], coordinates[:, 2], c=y_db)\n",
    "ax.set_zlim([-1, 1])\n",
    "plt.show()\n",
    "\n",
    "from sklearn.metrics import confusion_matrix\n",
    "print(confusion_matrix(carbon, y_db))"
   ]
  },
  {
   "cell_type": "markdown",
   "metadata": {},
   "source": [
    "__Description/comments for 7. a)__  \n",
    "Answer: Using DBSCAN, 6 points were deemed outliers, while the rest were perfectly classified."
   ]
  },
  {
   "cell_type": "markdown",
   "metadata": {},
   "source": [
    "### Exercise 7. b) (8 points)\n",
    "\n",
    "The scientist's boss has only learned K-means clustering at the university, and tells the scientist this is the only credible way of clustering. Luckily, the scientist knows how to please/trick his boss by expressing the coordinates as polar coordinates instead.  \n",
    "  \n",
    "1. Drop the z-coordinate (third coordinate), transform the data into polar coordinates and plot the result in a scatter plot with colours for carbon amount.\n",
    "2. Explain what more the scientist needs to do with the data before applying K-means clustering successfully on them? Do it, cluster and report again using confusion matrix!"
   ]
  },
  {
   "cell_type": "code",
   "execution_count": 23,
   "metadata": {},
   "outputs": [],
   "source": [
    "def polar_coordinates(xy):\n",
    "    r = np.sqrt(xy[:, 0]**2 + xy[:, 1]**2) # Distance to origin\n",
    "    t = np.arctan2(xy[:, 0], xy[:, 1])     # Angle in radians\n",
    "    rt = np.array([r, t]).T\n",
    "    return rt"
   ]
  },
  {
   "cell_type": "code",
   "execution_count": 24,
   "metadata": {},
   "outputs": [
    {
     "data": {
      "image/png": "[encoded data removed]",
      "text/plain": [
       "<Figure size 432x288 with 2 Axes>"
      ]
     },
     "metadata": {
      "needs_background": "light"
     },
     "output_type": "display_data"
    }
   ],
   "source": [
    "# Code for 7. b) part 1\n",
    "X = polar_coordinates(coordinates[:, : 2])\n",
    "\n",
    "import matplotlib.pyplot as plt\n",
    "plt.scatter(X[:,0 ], X[:, 1], c=carbon)\n",
    "plt.colorbar()\n",
    "plt.show()"
   ]
  },
  {
   "cell_type": "markdown",
   "metadata": {},
   "source": [
    "__Description/comments for 7. b)  part 1__  \n",
    "Answer: K-means works best with spherical data. It would therefore be beneficial to scale the data first to obtain more comparable sizes in all directions."
   ]
  },
  {
   "cell_type": "code",
   "execution_count": 25,
   "metadata": {},
   "outputs": [
    {
     "name": "stdout",
     "output_type": "stream",
     "text": [
      "[[  1 499]\n",
      " [500   0]]\n"
     ]
    }
   ],
   "source": [
    "# Code for 7. b) part 2\n",
    "X_scale = StandardScaler().fit_transform(X)\n",
    "\n",
    "from sklearn.cluster import KMeans\n",
    "\n",
    "km = KMeans(n_clusters=2, \n",
    "            init='k-means++',\n",
    "            n_init=10,\n",
    "            max_iter=300,\n",
    "            tol=1e-04,\n",
    "            random_state=0)\n",
    "\n",
    "y_km = km.fit_predict(X_scale)\n",
    "print(confusion_matrix(carbon, y_km))"
   ]
  }
 ],
 "metadata": {
  "kernelspec": {
   "display_name": "Python 3",
   "language": "python",
   "name": "python3"
  },
  "language_info": {
   "codemirror_mode": {
    "name": "ipython",
    "version": 3
   },
   "file_extension": ".py",
   "mimetype": "text/x-python",
   "name": "python",
   "nbconvert_exporter": "python",
   "pygments_lexer": "ipython3",
   "version": "3.7.4"
  }
 },
 "nbformat": 4,
 "nbformat_minor": 2
}
